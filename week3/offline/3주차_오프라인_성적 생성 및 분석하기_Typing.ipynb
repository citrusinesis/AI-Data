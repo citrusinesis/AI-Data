{
 "cells": [
  {
   "cell_type": "markdown",
   "id": "6e7c3ee3",
   "metadata": {},
   "source": [
    "# 국어, 수학, 영어 점수를 생성하여 시각화하기\n",
    "## 1. 각 라이브러리 초기화 및 한글 폰트 생성"
   ]
  },
  {
   "cell_type": "code",
   "execution_count": 1,
   "id": "63ffda0f",
   "metadata": {},
   "outputs": [],
   "source": [
    "# 각 라이브러리 초기화하기\n",
    "import pandas as pd\n",
    "import numpy as np\n",
    "import matplotlib.pyplot as plt\n",
    "import seaborn as sns\n",
    "\n",
    "from matplotlib import font_manager, rc\n",
    "\n",
    "path = \"c:/windows/Fonts/malgun.ttf\"\n",
    "font_name = font_manager.FontProperties(fname=path).get_name()\n",
    "rc('font', family=font_name)"
   ]
  },
  {
   "cell_type": "markdown",
   "id": "ef0828d9",
   "metadata": {},
   "source": [
    "## 2. 국어, 수학, 영어 점수 자동 생성하기"
   ]
  },
  {
   "cell_type": "code",
   "execution_count": 4,
   "id": "82a68793",
   "metadata": {},
   "outputs": [
    {
     "data": {
      "text/plain": [
       "array([30, 58, 99, 60, 37, 59, 99, 95, 47, 56, 33, 35, 60, 88, 87, 41, 81,\n",
       "       93, 54, 45, 35, 77, 68, 94, 59, 57, 31, 75, 64, 61, 43, 46, 36, 73,\n",
       "       39, 75, 49, 35, 67, 50, 45, 72, 73, 59, 30, 32, 50, 79, 43, 42, 32,\n",
       "       74, 36, 96, 44, 34, 92, 36, 89, 40, 33, 44, 54, 85, 36, 65, 36, 56,\n",
       "       64, 46, 99, 57, 88, 71, 45, 74, 66, 45, 89, 46, 69, 89, 98, 30, 30,\n",
       "       42, 96, 68, 70, 56, 69, 42, 59, 84, 41, 78, 32, 52, 39, 75])"
      ]
     },
     "execution_count": 4,
     "metadata": {},
     "output_type": "execute_result"
    }
   ],
   "source": [
    "# 100명의 국어 점수를 정수형으로 자동생성하기(점수범위는 30~100점까지)\n",
    "국어 = np.random.randint(30, 100, 100)\n",
    "국어"
   ]
  },
  {
   "cell_type": "code",
   "execution_count": 5,
   "id": "895d3e9f",
   "metadata": {},
   "outputs": [
    {
     "data": {
      "text/plain": [
       "array([4.35468676e+01, 3.50032077e+01, 3.08238549e+01, 6.22147412e+01,\n",
       "       5.94017546e+01, 4.88705023e+01, 7.73458324e+00, 7.05673592e-01,\n",
       "       9.92050964e+01, 1.55284336e+01, 9.15577985e+01, 3.82509912e+01,\n",
       "       7.69452176e+01, 2.89584099e+00, 9.37493558e-01, 2.70996723e+01,\n",
       "       1.68232872e+00, 5.75138238e+01, 6.64087332e+01, 7.82427983e+01,\n",
       "       2.61067234e+01, 2.58600674e+01, 9.42303714e+01, 3.49691179e+01,\n",
       "       5.49244548e+01, 2.11526535e+01, 6.12655001e+01, 6.73957100e+01,\n",
       "       6.80970120e+01, 8.59093744e+01, 2.08493986e+01, 3.06705586e+01,\n",
       "       4.63253331e+01, 7.95422104e+01, 6.70056443e+00, 2.29671921e+01,\n",
       "       1.92277031e+01, 9.74431974e+01, 6.00395638e+01, 1.99703185e+01,\n",
       "       4.75035711e+01, 8.15220551e+01, 3.66565728e+01, 9.61740509e+01,\n",
       "       4.43165118e+01, 8.72555200e+01, 7.92464467e+01, 1.43459977e+01,\n",
       "       1.60612605e+01, 8.33382959e+01, 3.18265185e+01, 8.19136307e+00,\n",
       "       1.04137162e+01, 6.08501677e+01, 6.00262389e+01, 7.11753739e+01,\n",
       "       7.32839431e+01, 7.33286386e+01, 8.29376516e-03, 2.05116693e+01,\n",
       "       1.29325860e+01, 3.87381803e+01, 3.84899357e+01, 4.16574837e+01,\n",
       "       5.86035981e+01, 9.17203990e+01, 3.48528801e+01, 7.12513582e+01,\n",
       "       6.26374665e+01, 5.42990079e+01, 7.35370174e+01, 8.95877251e+01,\n",
       "       8.88234345e+01, 3.41501940e+00, 7.89252269e+01, 5.05924509e+01,\n",
       "       3.96415861e+01, 3.20960424e+01, 2.43848447e+01, 5.07305442e+01,\n",
       "       3.13915522e+01, 1.19536076e+00, 5.80963909e+01, 7.76644085e+01,\n",
       "       7.59040695e+00, 3.27126459e+01, 6.88303805e+01, 4.33453330e+01,\n",
       "       5.48685199e+01, 9.84287595e+01, 3.11548232e+01, 4.95618358e+00,\n",
       "       5.09087271e+01, 7.36185033e+01, 2.36125422e+01, 2.38592824e+01,\n",
       "       8.18367487e+01, 2.22273848e+00, 2.05520257e+00, 7.50258955e+01])"
      ]
     },
     "execution_count": 5,
     "metadata": {},
     "output_type": "execute_result"
    }
   ],
   "source": [
    "# 100명의 수학 점수를 실수형으로 자동생성하기(점수 범위는 0~100점까지)\n",
    "수학 = np.random.rand(100) * 100\n",
    "수학"
   ]
  },
  {
   "cell_type": "code",
   "execution_count": 11,
   "id": "0e74627a",
   "metadata": {},
   "outputs": [
    {
     "data": {
      "text/plain": [
       "array([ 75.50146122,  80.3360486 ,  90.37160886,  75.66338474,\n",
       "        85.79126281,  82.60724592,  78.87805937,  73.08000234,\n",
       "        80.43755384,  62.36831589, 105.43400701,  88.45921101,\n",
       "        74.53848632,  80.77868558, 105.09340703,  73.4200896 ,\n",
       "        69.53181567,  68.34654566,  90.1834241 ,  81.61127155,\n",
       "        65.37247961,  75.24552894,  80.82861011,  82.69708815,\n",
       "        72.67125886,  86.81573979,  63.00685314,  83.31504138,\n",
       "        84.04307306,  78.98623942,  95.96853999,  89.56268317,\n",
       "        80.82732398,  97.71133357,  79.53363077,  88.16295184,\n",
       "        83.65645066,  92.3194074 ,  77.52747894,  64.72778346,\n",
       "        79.61796913,  73.89008318,  74.46428925,  92.1296724 ,\n",
       "        68.69555305,  79.99232553,  76.05653129,  74.99812108,\n",
       "        87.72315112,  89.16527249,  87.20433923,  92.53599037,\n",
       "        73.37426029,  72.59359945,  75.4928661 ,  76.64381274,\n",
       "        79.78615003,  86.18336418,  81.58649056,  78.4631794 ,\n",
       "        67.03414156,  82.48429802,  72.24339733,  64.39575267,\n",
       "        85.23515018,  83.1890559 ,  83.16928643,  96.76008302,\n",
       "        67.54200547,  75.07218991,  65.99664432,  75.11619026,\n",
       "        71.35815476,  87.76494471, 101.22774507,  76.43387684,\n",
       "        74.25064328,  71.37526847,  72.74674749,  81.04204366,\n",
       "        85.3658034 ,  96.03064679,  92.4057507 ,  73.43300189,\n",
       "        84.04352634,  86.70987818,  83.40399632,  71.45561444,\n",
       "        61.76753293,  77.31533931,  89.70045223,  88.06273893,\n",
       "        80.01647449,  83.58659603,  72.15023068, 102.6092048 ,\n",
       "        85.63335779,  75.33958879,  75.32124682,  81.10589559])"
      ]
     },
     "execution_count": 11,
     "metadata": {},
     "output_type": "execute_result"
    }
   ],
   "source": [
    "#100명의 영어 점수를 자동으로 생성하기(평균이 80점이고 표준편차가 10)\n",
    "영어 = np.random.normal(80, 10, 100)\n",
    "영어"
   ]
  },
  {
   "cell_type": "markdown",
   "id": "56fb0bb7",
   "metadata": {},
   "source": [
    "## 3. 영어 점수 통계 정보 확인하기"
   ]
  },
  {
   "cell_type": "code",
   "execution_count": 12,
   "id": "a5d7f1d2",
   "metadata": {},
   "outputs": [
    {
     "name": "stdout",
     "output_type": "stream",
     "text": [
      "80.45902899996949 9.358742684426103 87.5860646332991\n"
     ]
    }
   ],
   "source": [
    "#영어 점수의 평균, 표준편차, 분산을 계산하기\n",
    "print(np.mean(영어), np.std(영어), np.var(영어))"
   ]
  },
  {
   "cell_type": "markdown",
   "id": "069f3dc4",
   "metadata": {},
   "source": [
    "## 4. 100개의 데이터를 이용하여 A, B 반 설정하기"
   ]
  },
  {
   "cell_type": "code",
   "execution_count": 13,
   "id": "d8508dac",
   "metadata": {},
   "outputs": [
    {
     "data": {
      "text/plain": [
       "['A반',\n",
       " 'B반',\n",
       " 'A반',\n",
       " 'B반',\n",
       " 'A반',\n",
       " 'B반',\n",
       " 'A반',\n",
       " 'B반',\n",
       " 'A반',\n",
       " 'B반',\n",
       " 'A반',\n",
       " 'B반',\n",
       " 'A반',\n",
       " 'B반',\n",
       " 'A반',\n",
       " 'B반',\n",
       " 'A반',\n",
       " 'B반',\n",
       " 'A반',\n",
       " 'B반',\n",
       " 'A반',\n",
       " 'B반',\n",
       " 'A반',\n",
       " 'B반',\n",
       " 'A반',\n",
       " 'B반',\n",
       " 'A반',\n",
       " 'B반',\n",
       " 'A반',\n",
       " 'B반',\n",
       " 'A반',\n",
       " 'B반',\n",
       " 'A반',\n",
       " 'B반',\n",
       " 'A반',\n",
       " 'B반',\n",
       " 'A반',\n",
       " 'B반',\n",
       " 'A반',\n",
       " 'B반',\n",
       " 'A반',\n",
       " 'B반',\n",
       " 'A반',\n",
       " 'B반',\n",
       " 'A반',\n",
       " 'B반',\n",
       " 'A반',\n",
       " 'B반',\n",
       " 'A반',\n",
       " 'B반',\n",
       " 'A반',\n",
       " 'B반',\n",
       " 'A반',\n",
       " 'B반',\n",
       " 'A반',\n",
       " 'B반',\n",
       " 'A반',\n",
       " 'B반',\n",
       " 'A반',\n",
       " 'B반',\n",
       " 'A반',\n",
       " 'B반',\n",
       " 'A반',\n",
       " 'B반',\n",
       " 'A반',\n",
       " 'B반',\n",
       " 'A반',\n",
       " 'B반',\n",
       " 'A반',\n",
       " 'B반',\n",
       " 'A반',\n",
       " 'B반',\n",
       " 'A반',\n",
       " 'B반',\n",
       " 'A반',\n",
       " 'B반',\n",
       " 'A반',\n",
       " 'B반',\n",
       " 'A반',\n",
       " 'B반',\n",
       " 'A반',\n",
       " 'B반',\n",
       " 'A반',\n",
       " 'B반',\n",
       " 'A반',\n",
       " 'B반',\n",
       " 'A반',\n",
       " 'B반',\n",
       " 'A반',\n",
       " 'B반',\n",
       " 'A반',\n",
       " 'B반',\n",
       " 'A반',\n",
       " 'B반',\n",
       " 'A반',\n",
       " 'B반',\n",
       " 'A반',\n",
       " 'B반',\n",
       " 'A반',\n",
       " 'B반']"
      ]
     },
     "execution_count": 13,
     "metadata": {},
     "output_type": "execute_result"
    }
   ],
   "source": [
    "#100개의 데이터 중 짝수번째는 \"A반\", 홀수번째는 \"B반\"으로 분반을 설정하여 리스트에 저장하기\n",
    "#list('참일때 출력결과'  if 조건식  else '거짓일때 출력결과' 반복문)\n",
    "분반 = ['A반' if not i%2 else 'B반' for i in range(100)]\n",
    "분반"
   ]
  },
  {
   "cell_type": "markdown",
   "id": "694fe8e4",
   "metadata": {},
   "source": [
    "## 5. 정형 데이터 생성하기"
   ]
  },
  {
   "cell_type": "code",
   "execution_count": 14,
   "id": "8a16e9c3",
   "metadata": {},
   "outputs": [
    {
     "data": {
      "text/html": [
       "<div>\n",
       "<style scoped>\n",
       "    .dataframe tbody tr th:only-of-type {\n",
       "        vertical-align: middle;\n",
       "    }\n",
       "\n",
       "    .dataframe tbody tr th {\n",
       "        vertical-align: top;\n",
       "    }\n",
       "\n",
       "    .dataframe thead th {\n",
       "        text-align: right;\n",
       "    }\n",
       "</style>\n",
       "<table border=\"1\" class=\"dataframe\">\n",
       "  <thead>\n",
       "    <tr style=\"text-align: right;\">\n",
       "      <th></th>\n",
       "      <th>분반</th>\n",
       "      <th>국어</th>\n",
       "      <th>영어</th>\n",
       "      <th>수학</th>\n",
       "    </tr>\n",
       "  </thead>\n",
       "  <tbody>\n",
       "    <tr>\n",
       "      <th>0</th>\n",
       "      <td>A반</td>\n",
       "      <td>30</td>\n",
       "      <td>75.501461</td>\n",
       "      <td>43.546868</td>\n",
       "    </tr>\n",
       "    <tr>\n",
       "      <th>1</th>\n",
       "      <td>B반</td>\n",
       "      <td>58</td>\n",
       "      <td>80.336049</td>\n",
       "      <td>35.003208</td>\n",
       "    </tr>\n",
       "    <tr>\n",
       "      <th>2</th>\n",
       "      <td>A반</td>\n",
       "      <td>99</td>\n",
       "      <td>90.371609</td>\n",
       "      <td>30.823855</td>\n",
       "    </tr>\n",
       "    <tr>\n",
       "      <th>3</th>\n",
       "      <td>B반</td>\n",
       "      <td>60</td>\n",
       "      <td>75.663385</td>\n",
       "      <td>62.214741</td>\n",
       "    </tr>\n",
       "    <tr>\n",
       "      <th>4</th>\n",
       "      <td>A반</td>\n",
       "      <td>37</td>\n",
       "      <td>85.791263</td>\n",
       "      <td>59.401755</td>\n",
       "    </tr>\n",
       "    <tr>\n",
       "      <th>...</th>\n",
       "      <td>...</td>\n",
       "      <td>...</td>\n",
       "      <td>...</td>\n",
       "      <td>...</td>\n",
       "    </tr>\n",
       "    <tr>\n",
       "      <th>95</th>\n",
       "      <td>B반</td>\n",
       "      <td>78</td>\n",
       "      <td>102.609205</td>\n",
       "      <td>23.859282</td>\n",
       "    </tr>\n",
       "    <tr>\n",
       "      <th>96</th>\n",
       "      <td>A반</td>\n",
       "      <td>32</td>\n",
       "      <td>85.633358</td>\n",
       "      <td>81.836749</td>\n",
       "    </tr>\n",
       "    <tr>\n",
       "      <th>97</th>\n",
       "      <td>B반</td>\n",
       "      <td>52</td>\n",
       "      <td>75.339589</td>\n",
       "      <td>2.222738</td>\n",
       "    </tr>\n",
       "    <tr>\n",
       "      <th>98</th>\n",
       "      <td>A반</td>\n",
       "      <td>39</td>\n",
       "      <td>75.321247</td>\n",
       "      <td>2.055203</td>\n",
       "    </tr>\n",
       "    <tr>\n",
       "      <th>99</th>\n",
       "      <td>B반</td>\n",
       "      <td>75</td>\n",
       "      <td>81.105896</td>\n",
       "      <td>75.025895</td>\n",
       "    </tr>\n",
       "  </tbody>\n",
       "</table>\n",
       "<p>100 rows × 4 columns</p>\n",
       "</div>"
      ],
      "text/plain": [
       "    분반  국어          영어         수학\n",
       "0   A반  30   75.501461  43.546868\n",
       "1   B반  58   80.336049  35.003208\n",
       "2   A반  99   90.371609  30.823855\n",
       "3   B반  60   75.663385  62.214741\n",
       "4   A반  37   85.791263  59.401755\n",
       "..  ..  ..         ...        ...\n",
       "95  B반  78  102.609205  23.859282\n",
       "96  A반  32   85.633358  81.836749\n",
       "97  B반  52   75.339589   2.222738\n",
       "98  A반  39   75.321247   2.055203\n",
       "99  B반  75   81.105896  75.025895\n",
       "\n",
       "[100 rows x 4 columns]"
      ]
     },
     "execution_count": 14,
     "metadata": {},
     "output_type": "execute_result"
    }
   ],
   "source": [
    "#100개의 데이터를 하나의 정형 데이터로 생성하기\n",
    "# DataFrame({'열이름': 열데이터,,,,})\n",
    "data = pd.DataFrame({'분반': 분반, '국어': 국어, '영어': 영어, '수학': 수학})\n",
    "data"
   ]
  },
  {
   "cell_type": "markdown",
   "id": "33cdf1e8",
   "metadata": {},
   "source": [
    "## 6. A반과 B반으로 데이터 분리하기"
   ]
  },
  {
   "cell_type": "code",
   "execution_count": 18,
   "id": "6e741149",
   "metadata": {},
   "outputs": [],
   "source": [
    "#'A반'과 'B반'의 성적 데이터를 각각 저장하기\n",
    "#변수명 = 변수명.query('조건')\n",
    "A반 = data.query(\"분반 == 'A반'\")\n",
    "B반 = data.query(\"분반 == 'B반'\")"
   ]
  },
  {
   "cell_type": "markdown",
   "id": "d2b9945a",
   "metadata": {},
   "source": [
    "### 분리된 데이터 index 재설정"
   ]
  },
  {
   "cell_type": "code",
   "execution_count": 21,
   "id": "4c5912ee",
   "metadata": {},
   "outputs": [],
   "source": [
    "#'A반'과 'B반'의 성적 데이터에 대한 index를 재설정하기\n",
    "A반.reset_index(drop=True, inplace=True)\n",
    "B반.reset_index(drop=True, inplace=True)"
   ]
  },
  {
   "cell_type": "markdown",
   "id": "6804940b",
   "metadata": {},
   "source": [
    "## 7. 차트로 데이터 시각화하기\n",
    "### matplolib으로 시각화하기"
   ]
  },
  {
   "cell_type": "code",
   "execution_count": 25,
   "id": "2f287700",
   "metadata": {},
   "outputs": [
    {
     "data": {
      "image/png": "[encoded data removed]",
      "text/plain": [
       "<Figure size 640x480 with 1 Axes>"
      ]
     },
     "metadata": {},
     "output_type": "display_data"
    }
   ],
   "source": [
    "#'A반'과 'B반'의 국어 점수에 대한 영어 점수 분포를 scatter 차트로 분석하기\n",
    "plt.scatter(A반['국어'], A반['영어'], label='A반')\n",
    "plt.scatter(B반['국어'], B반['영어'], label='B반')\n",
    "plt.legend()\n",
    "plt.title('A반과 B반의 국어 점수에 대한 영어 점수 분포')\n",
    "plt.xlabel('국어')\n",
    "plt.ylabel('영어')\n",
    "plt.show()"
   ]
  },
  {
   "cell_type": "code",
   "execution_count": 26,
   "id": "0072c3ce",
   "metadata": {},
   "outputs": [
    {
     "data": {
      "image/png": "[encoded data removed]",
      "text/plain": [
       "<Figure size 640x480 with 1 Axes>"
      ]
     },
     "metadata": {},
     "output_type": "display_data"
    }
   ],
   "source": [
    "#'A반'의 국어 점수 분포를 히스토그램으로 표현하기 (bins=7로 설정)\n",
    "plt.hist(A반['국어'], bins=7)\n",
    "plt.show()"
   ]
  },
  {
   "cell_type": "markdown",
   "id": "005f822e",
   "metadata": {},
   "source": [
    "### seaborn으로 시각화하기"
   ]
  },
  {
   "cell_type": "code",
   "execution_count": 30,
   "id": "13fc8ca7",
   "metadata": {},
   "outputs": [
    {
     "data": {
      "image/png": "[encoded data removed]",
      "text/plain": [
       "<Figure size 500x500 with 1 Axes>"
      ]
     },
     "metadata": {},
     "output_type": "display_data"
    }
   ],
   "source": [
    "#seaborn을 이용하여 국어와 수학점수 데이터 관계를 relplot 으로 확인하기\n",
    "sns.relplot(data=data, x='국어', y='수학')\n",
    "plt.show()"
   ]
  },
  {
   "cell_type": "code",
   "execution_count": 29,
   "id": "2867767b",
   "metadata": {},
   "outputs": [
    {
     "data": {
      "image/png": "[encoded data removed]",
      "text/plain": [
       "<Figure size 573x500 with 1 Axes>"
      ]
     },
     "metadata": {},
     "output_type": "display_data"
    }
   ],
   "source": [
    "#A반과 B반을 색상으로 표현하기\n",
    "sns.relplot(data=data, x='국어', y='수학', hue='분반')\n",
    "plt.show()"
   ]
  }
 ],
 "metadata": {
  "kernelspec": {
   "display_name": "Python 3.10.2 64-bit",
   "language": "python",
   "name": "python3"
  },
  "language_info": {
   "codemirror_mode": {
    "name": "ipython",
    "version": 3
   },
   "file_extension": ".py",
   "mimetype": "text/x-python",
   "name": "python",
   "nbconvert_exporter": "python",
   "pygments_lexer": "ipython3",
   "version": "3.10.2"
  },
  "vscode": {
   "interpreter": {
    "hash": "294a2ce54ec9e97ecbc4b8783482526d5c2ad99aca1ef4f27d286a5682734f1b"
   }
  }
 },
 "nbformat": 4,
 "nbformat_minor": 5
}
