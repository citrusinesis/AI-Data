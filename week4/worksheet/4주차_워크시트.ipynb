{
  "nbformat": 4,
  "nbformat_minor": 0,
  "metadata": {
    "colab": {
      "provenance": []
    },
    "kernelspec": {
      "name": "python3",
      "display_name": "Python 3"
    },
    "language_info": {
      "name": "python"
    }
  },
  "cells": [
    {
      "cell_type": "code",
      "execution_count": 2,
      "metadata": {
        "colab": {
          "base_uri": "https://localhost:8080/"
        },
        "id": "fvhiHC3S-yIn",
        "outputId": "9bb9fbd3-c996-4c8a-f3c1-326310604a26"
      },
      "outputs": [
        {
          "output_type": "stream",
          "name": "stdout",
          "text": [
            "Reading package lists... Done\n",
            "Building dependency tree       \n",
            "Reading state information... Done\n",
            "The following package was automatically installed and is no longer required:\n",
            "  libnvidia-common-460\n",
            "Use 'sudo apt autoremove' to remove it.\n",
            "The following NEW packages will be installed:\n",
            "  fonts-nanum\n",
            "0 upgraded, 1 newly installed, 0 to remove and 20 not upgraded.\n",
            "Need to get 9,604 kB of archives.\n",
            "After this operation, 29.5 MB of additional disk space will be used.\n",
            "Get:1 http://archive.ubuntu.com/ubuntu bionic/universe amd64 fonts-nanum all 20170925-1 [9,604 kB]\n",
            "Fetched 9,604 kB in 1s (8,265 kB/s)\n",
            "debconf: unable to initialize frontend: Dialog\n",
            "debconf: (No usable dialog-like program is installed, so the dialog based frontend cannot be used. at /usr/share/perl5/Debconf/FrontEnd/Dialog.pm line 76, <> line 1.)\n",
            "debconf: falling back to frontend: Readline\n",
            "debconf: unable to initialize frontend: Readline\n",
            "debconf: (This frontend requires a controlling tty.)\n",
            "debconf: falling back to frontend: Teletype\n",
            "dpkg-preconfigure: unable to re-open stdin: \n",
            "Selecting previously unselected package fonts-nanum.\n",
            "(Reading database ... 157604 files and directories currently installed.)\n",
            "Preparing to unpack .../fonts-nanum_20170925-1_all.deb ...\n",
            "Unpacking fonts-nanum (20170925-1) ...\n",
            "Setting up fonts-nanum (20170925-1) ...\n",
            "Processing triggers for fontconfig (2.12.6-0ubuntu2) ...\n",
            "/usr/share/fonts: caching, new cache contents: 0 fonts, 1 dirs\n",
            "/usr/share/fonts/truetype: caching, new cache contents: 0 fonts, 3 dirs\n",
            "/usr/share/fonts/truetype/humor-sans: caching, new cache contents: 1 fonts, 0 dirs\n",
            "/usr/share/fonts/truetype/liberation: caching, new cache contents: 16 fonts, 0 dirs\n",
            "/usr/share/fonts/truetype/nanum: caching, new cache contents: 10 fonts, 0 dirs\n",
            "/usr/local/share/fonts: caching, new cache contents: 0 fonts, 0 dirs\n",
            "/root/.local/share/fonts: skipping, no such directory\n",
            "/root/.fonts: skipping, no such directory\n",
            "/var/cache/fontconfig: cleaning cache directory\n",
            "/root/.cache/fontconfig: not cleaning non-existent cache directory\n",
            "/root/.fontconfig: not cleaning non-existent cache directory\n",
            "fc-cache: succeeded\n"
          ]
        }
      ],
      "source": [
        "!sudo apt-get install -y fonts-nanum\n",
        "!sudo fc-cache -fv\n",
        "!rm ~/.cache/matplotlib -rf"
      ]
    },
    {
      "cell_type": "markdown",
      "source": [
        "# 1. 문자열 처리"
      ],
      "metadata": {
        "id": "6k6bAB8hAArx"
      }
    },
    {
      "cell_type": "code",
      "source": [
        "text = '챗봇(chatbot) 혹은 채터봇(chatterbot)은 음성이나 문자를 통한 인간과의 대화를 통해서 특정한 작업을 수행하도록 제작된 컴퓨터 프로그램이다. 토크봇(talkbot), 채터박스(chatterbox) 혹은 그냥 봇(bot)라고도 한다.'"
      ],
      "metadata": {
        "id": "Qifz7MJU-_TI"
      },
      "execution_count": 3,
      "outputs": []
    },
    {
      "cell_type": "code",
      "source": [
        "text_upper = text.upper()\n",
        "text_upper"
      ],
      "metadata": {
        "colab": {
          "base_uri": "https://localhost:8080/",
          "height": 72
        },
        "id": "KHuTNxi7_QOJ",
        "outputId": "a4686ce4-d0ba-4fdb-cdb7-e44dc86e23bc"
      },
      "execution_count": 4,
      "outputs": [
        {
          "output_type": "execute_result",
          "data": {
            "text/plain": [
              "'챗봇(CHATBOT) 혹은 채터봇(CHATTERBOT)은 음성이나 문자를 통한 인간과의 대화를 통해서 특정한 작업을 수행하도록 제작된 컴퓨터 프로그램이다. 토크봇(TALKBOT), 채터박스(CHATTERBOX) 혹은 그냥 봇(BOT)라고도 한다.'"
            ],
            "application/vnd.google.colaboratory.intrinsic+json": {
              "type": "string"
            }
          },
          "metadata": {},
          "execution_count": 4
        }
      ]
    },
    {
      "cell_type": "code",
      "source": [
        "text_lower = text.lower()\n",
        "text_lower"
      ],
      "metadata": {
        "colab": {
          "base_uri": "https://localhost:8080/",
          "height": 72
        },
        "id": "OkQH4vGG_Vn9",
        "outputId": "0ceaa149-5b09-4fa4-84d7-456378408585"
      },
      "execution_count": 5,
      "outputs": [
        {
          "output_type": "execute_result",
          "data": {
            "text/plain": [
              "'챗봇(chatbot) 혹은 채터봇(chatterbot)은 음성이나 문자를 통한 인간과의 대화를 통해서 특정한 작업을 수행하도록 제작된 컴퓨터 프로그램이다. 토크봇(talkbot), 채터박스(chatterbox) 혹은 그냥 봇(bot)라고도 한다.'"
            ],
            "application/vnd.google.colaboratory.intrinsic+json": {
              "type": "string"
            }
          },
          "metadata": {},
          "execution_count": 5
        }
      ]
    },
    {
      "cell_type": "code",
      "source": [
        "text.find('컴퓨터')"
      ],
      "metadata": {
        "colab": {
          "base_uri": "https://localhost:8080/"
        },
        "id": "inMELJ8D_YXg",
        "outputId": "12ee6c53-4161-4b72-a8dd-3d82a570defe"
      },
      "execution_count": 6,
      "outputs": [
        {
          "output_type": "execute_result",
          "data": {
            "text/plain": [
              "75"
            ]
          },
          "metadata": {},
          "execution_count": 6
        }
      ]
    },
    {
      "cell_type": "code",
      "source": [
        "pos = text.find('컴퓨터')\n",
        "text[pos : pos+len('컴퓨터 프로그램')]"
      ],
      "metadata": {
        "colab": {
          "base_uri": "https://localhost:8080/",
          "height": 35
        },
        "id": "FBuWL_Jj_dhC",
        "outputId": "6e23396e-672c-4eb5-9a98-6d2e58b4edee"
      },
      "execution_count": 7,
      "outputs": [
        {
          "output_type": "execute_result",
          "data": {
            "text/plain": [
              "'컴퓨터 프로그램'"
            ],
            "application/vnd.google.colaboratory.intrinsic+json": {
              "type": "string"
            }
          },
          "metadata": {},
          "execution_count": 7
        }
      ]
    },
    {
      "cell_type": "code",
      "source": [
        "'인공지능' in text"
      ],
      "metadata": {
        "colab": {
          "base_uri": "https://localhost:8080/"
        },
        "id": "iy34DLD0_s7j",
        "outputId": "d3a801f0-31ff-4fe4-b98e-35077dbabba8"
      },
      "execution_count": 8,
      "outputs": [
        {
          "output_type": "execute_result",
          "data": {
            "text/plain": [
              "False"
            ]
          },
          "metadata": {},
          "execution_count": 8
        }
      ]
    },
    {
      "cell_type": "code",
      "source": [
        "len(text)"
      ],
      "metadata": {
        "colab": {
          "base_uri": "https://localhost:8080/"
        },
        "id": "fVLs7Jdv_1fa",
        "outputId": "527c35c8-93f4-4bff-e87b-6e4273210bad"
      },
      "execution_count": 9,
      "outputs": [
        {
          "output_type": "execute_result",
          "data": {
            "text/plain": [
              "137"
            ]
          },
          "metadata": {},
          "execution_count": 9
        }
      ]
    },
    {
      "cell_type": "code",
      "source": [
        "text.count('bot')"
      ],
      "metadata": {
        "colab": {
          "base_uri": "https://localhost:8080/"
        },
        "id": "dFYRl2X2_5w0",
        "outputId": "15b32938-6e66-4455-fade-baec816ab300"
      },
      "execution_count": 10,
      "outputs": [
        {
          "output_type": "execute_result",
          "data": {
            "text/plain": [
              "4"
            ]
          },
          "metadata": {},
          "execution_count": 10
        }
      ]
    },
    {
      "cell_type": "markdown",
      "source": [
        "# 2. WordCloud 생성"
      ],
      "metadata": {
        "id": "tk4ldbGUAFve"
      }
    },
    {
      "cell_type": "code",
      "source": [
        "from google.colab import files\n",
        "files.upload()"
      ],
      "metadata": {
        "colab": {
          "base_uri": "https://localhost:8080/",
          "height": 1000
        },
        "id": "6VK3eJMGAKe-",
        "outputId": "2f9219af-a919-49ae-df19-2ce382cc57c9"
      },
      "execution_count": 16,
      "outputs": [
        {
          "output_type": "display_data",
          "data": {
            "text/plain": [
              "<IPython.core.display.HTML object>"
            ],
            "text/html": [
              "\n",
              "     <input type=\"file\" id=\"files-364d5de9-16fb-4498-8059-009cf469ff2f\" name=\"files[]\" multiple disabled\n",
              "        style=\"border:none\" />\n",
              "     <output id=\"result-364d5de9-16fb-4498-8059-009cf469ff2f\">\n",
              "      Upload widget is only available when the cell has been executed in the\n",
              "      current browser session. Please rerun this cell to enable.\n",
              "      </output>\n",
              "      <script>// Copyright 2017 Google LLC\n",
              "//\n",
              "// Licensed under the Apache License, Version 2.0 (the \"License\");\n",
              "// you may not use this file except in compliance with the License.\n",
              "// You may obtain a copy of the License at\n",
              "//\n",
              "//      http://www.apache.org/licenses/LICENSE-2.0\n",
              "//\n",
              "// Unless required by applicable law or agreed to in writing, software\n",
              "// distributed under the License is distributed on an \"AS IS\" BASIS,\n",
              "// WITHOUT WARRANTIES OR CONDITIONS OF ANY KIND, either express or implied.\n",
              "// See the License for the specific language governing permissions and\n",
              "// limitations under the License.\n",
              "\n",
              "/**\n",
              " * @fileoverview Helpers for google.colab Python module.\n",
              " */\n",
              "(function(scope) {\n",
              "function span(text, styleAttributes = {}) {\n",
              "  const element = document.createElement('span');\n",
              "  element.textContent = text;\n",
              "  for (const key of Object.keys(styleAttributes)) {\n",
              "    element.style[key] = styleAttributes[key];\n",
              "  }\n",
              "  return element;\n",
              "}\n",
              "\n",
              "// Max number of bytes which will be uploaded at a time.\n",
              "const MAX_PAYLOAD_SIZE = 100 * 1024;\n",
              "\n",
              "function _uploadFiles(inputId, outputId) {\n",
              "  const steps = uploadFilesStep(inputId, outputId);\n",
              "  const outputElement = document.getElementById(outputId);\n",
              "  // Cache steps on the outputElement to make it available for the next call\n",
              "  // to uploadFilesContinue from Python.\n",
              "  outputElement.steps = steps;\n",
              "\n",
              "  return _uploadFilesContinue(outputId);\n",
              "}\n",
              "\n",
              "// This is roughly an async generator (not supported in the browser yet),\n",
              "// where there are multiple asynchronous steps and the Python side is going\n",
              "// to poll for completion of each step.\n",
              "// This uses a Promise to block the python side on completion of each step,\n",
              "// then passes the result of the previous step as the input to the next step.\n",
              "function _uploadFilesContinue(outputId) {\n",
              "  const outputElement = document.getElementById(outputId);\n",
              "  const steps = outputElement.steps;\n",
              "\n",
              "  const next = steps.next(outputElement.lastPromiseValue);\n",
              "  return Promise.resolve(next.value.promise).then((value) => {\n",
              "    // Cache the last promise value to make it available to the next\n",
              "    // step of the generator.\n",
              "    outputElement.lastPromiseValue = value;\n",
              "    return next.value.response;\n",
              "  });\n",
              "}\n",
              "\n",
              "/**\n",
              " * Generator function which is called between each async step of the upload\n",
              " * process.\n",
              " * @param {string} inputId Element ID of the input file picker element.\n",
              " * @param {string} outputId Element ID of the output display.\n",
              " * @return {!Iterable<!Object>} Iterable of next steps.\n",
              " */\n",
              "function* uploadFilesStep(inputId, outputId) {\n",
              "  const inputElement = document.getElementById(inputId);\n",
              "  inputElement.disabled = false;\n",
              "\n",
              "  const outputElement = document.getElementById(outputId);\n",
              "  outputElement.innerHTML = '';\n",
              "\n",
              "  const pickedPromise = new Promise((resolve) => {\n",
              "    inputElement.addEventListener('change', (e) => {\n",
              "      resolve(e.target.files);\n",
              "    });\n",
              "  });\n",
              "\n",
              "  const cancel = document.createElement('button');\n",
              "  inputElement.parentElement.appendChild(cancel);\n",
              "  cancel.textContent = 'Cancel upload';\n",
              "  const cancelPromise = new Promise((resolve) => {\n",
              "    cancel.onclick = () => {\n",
              "      resolve(null);\n",
              "    };\n",
              "  });\n",
              "\n",
              "  // Wait for the user to pick the files.\n",
              "  const files = yield {\n",
              "    promise: Promise.race([pickedPromise, cancelPromise]),\n",
              "    response: {\n",
              "      action: 'starting',\n",
              "    }\n",
              "  };\n",
              "\n",
              "  cancel.remove();\n",
              "\n",
              "  // Disable the input element since further picks are not allowed.\n",
              "  inputElement.disabled = true;\n",
              "\n",
              "  if (!files) {\n",
              "    return {\n",
              "      response: {\n",
              "        action: 'complete',\n",
              "      }\n",
              "    };\n",
              "  }\n",
              "\n",
              "  for (const file of files) {\n",
              "    const li = document.createElement('li');\n",
              "    li.append(span(file.name, {fontWeight: 'bold'}));\n",
              "    li.append(span(\n",
              "        `(${file.type || 'n/a'}) - ${file.size} bytes, ` +\n",
              "        `last modified: ${\n",
              "            file.lastModifiedDate ? file.lastModifiedDate.toLocaleDateString() :\n",
              "                                    'n/a'} - `));\n",
              "    const percent = span('0% done');\n",
              "    li.appendChild(percent);\n",
              "\n",
              "    outputElement.appendChild(li);\n",
              "\n",
              "    const fileDataPromise = new Promise((resolve) => {\n",
              "      const reader = new FileReader();\n",
              "      reader.onload = (e) => {\n",
              "        resolve(e.target.result);\n",
              "      };\n",
              "      reader.readAsArrayBuffer(file);\n",
              "    });\n",
              "    // Wait for the data to be ready.\n",
              "    let fileData = yield {\n",
              "      promise: fileDataPromise,\n",
              "      response: {\n",
              "        action: 'continue',\n",
              "      }\n",
              "    };\n",
              "\n",
              "    // Use a chunked sending to avoid message size limits. See b/62115660.\n",
              "    let position = 0;\n",
              "    do {\n",
              "      const length = Math.min(fileData.byteLength - position, MAX_PAYLOAD_SIZE);\n",
              "      const chunk = new Uint8Array(fileData, position, length);\n",
              "      position += length;\n",
              "\n",
              "      const base64 = btoa(String.fromCharCode.apply(null, chunk));\n",
              "      yield {\n",
              "        response: {\n",
              "          action: 'append',\n",
              "          file: file.name,\n",
              "          data: base64,\n",
              "        },\n",
              "      };\n",
              "\n",
              "      let percentDone = fileData.byteLength === 0 ?\n",
              "          100 :\n",
              "          Math.round((position / fileData.byteLength) * 100);\n",
              "      percent.textContent = `${percentDone}% done`;\n",
              "\n",
              "    } while (position < fileData.byteLength);\n",
              "  }\n",
              "\n",
              "  // All done.\n",
              "  yield {\n",
              "    response: {\n",
              "      action: 'complete',\n",
              "    }\n",
              "  };\n",
              "}\n",
              "\n",
              "scope.google = scope.google || {};\n",
              "scope.google.colab = scope.google.colab || {};\n",
              "scope.google.colab._files = {\n",
              "  _uploadFiles,\n",
              "  _uploadFilesContinue,\n",
              "};\n",
              "})(self);\n",
              "</script> "
            ]
          },
          "metadata": {}
        },
        {
          "output_type": "stream",
          "name": "stdout",
          "text": [
            "Saving 챗봇.txt to 챗봇.txt\n"
          ]
        },
        {
          "output_type": "execute_result",
          "data": {
            "text/plain": [
              "{'챗봇.txt': b'\\xec\\xb1\\x97\\xeb\\xb4\\x87\\r\\n\\r\\n\\xeb\\xac\\xb8\\xec\\x84\\x9c\\r\\n\\xed\\x86\\xa0\\xeb\\xa1\\xa0\\r\\n\\xec\\x9d\\xbd\\xea\\xb8\\xb0\\r\\n\\xed\\x8e\\xb8\\xec\\xa7\\x91\\r\\n\\xec\\x97\\xad\\xec\\x82\\xac \\xeb\\xb3\\xb4\\xea\\xb8\\xb0\\r\\n\\xec\\x9c\\x84\\xed\\x82\\xa4\\xeb\\xb0\\xb1\\xea\\xb3\\xbc, \\xec\\x9a\\xb0\\xeb\\xa6\\xac \\xeb\\xaa\\xa8\\xeb\\x91\\x90\\xec\\x9d\\x98 \\xeb\\xb0\\xb1\\xea\\xb3\\xbc\\xec\\x82\\xac\\xec\\xa0\\x84.\\r\\n\\r\\n\\r\\n\\xea\\xb0\\x80\\xec\\x83\\x81 \\xeb\\xb9\\x84\\xec\\x84\\x9c \\xec\\xb1\\x97\\xeb\\xb4\\x87\\r\\n\\xec\\xb1\\x97\\xeb\\xb4\\x87(chatbot) \\xed\\x98\\xb9\\xec\\x9d\\x80 \\xec\\xb1\\x84\\xed\\x84\\xb0\\xeb\\xb4\\x87(chatterbot)\\xec\\x9d\\x80 \\xec\\x9d\\x8c\\xec\\x84\\xb1\\xec\\x9d\\xb4\\xeb\\x82\\x98 \\xeb\\xac\\xb8\\xec\\x9e\\x90\\xeb\\xa5\\xbc \\xed\\x86\\xb5\\xed\\x95\\x9c \\xec\\x9d\\xb8\\xea\\xb0\\x84\\xea\\xb3\\xbc\\xec\\x9d\\x98 \\xeb\\x8c\\x80\\xed\\x99\\x94\\xeb\\xa5\\xbc \\xed\\x86\\xb5\\xed\\x95\\xb4\\xec\\x84\\x9c \\xed\\x8a\\xb9\\xec\\xa0\\x95\\xed\\x95\\x9c \\xec\\x9e\\x91\\xec\\x97\\x85\\xec\\x9d\\x84 \\xec\\x88\\x98\\xed\\x96\\x89\\xed\\x95\\x98\\xeb\\x8f\\x84\\xeb\\xa1\\x9d \\xec\\xa0\\x9c\\xec\\x9e\\x91\\xeb\\x90\\x9c \\xec\\xbb\\xb4\\xed\\x93\\xa8\\xed\\x84\\xb0 \\xed\\x94\\x84\\xeb\\xa1\\x9c\\xea\\xb7\\xb8\\xeb\\x9e\\xa8\\xec\\x9d\\xb4\\xeb\\x8b\\xa4. \\xed\\x86\\xa0\\xed\\x81\\xac\\xeb\\xb4\\x87(talkbot), \\xec\\xb1\\x84\\xed\\x84\\xb0\\xeb\\xb0\\x95\\xec\\x8a\\xa4(chatterbox) \\xed\\x98\\xb9\\xec\\x9d\\x80 \\xea\\xb7\\xb8\\xeb\\x83\\xa5 \\xeb\\xb4\\x87(bot)\\xeb\\x9d\\xbc\\xea\\xb3\\xa0\\xeb\\x8f\\x84 \\xed\\x95\\x9c\\xeb\\x8b\\xa4.\\r\\n\\r\\n\\xec\\x9d\\xb8\\xea\\xb0\\x84\\xec\\x9d\\xb4 \\xec\\x82\\xac\\xec\\x9a\\xa9\\xed\\x95\\x98\\xeb\\x8a\\x94 \\xec\\x96\\xb8\\xec\\x96\\xb4\\xeb\\xa5\\xbc \\xec\\x9d\\xb4\\xed\\x95\\xb4\\xed\\x95\\xb4\\xec\\x84\\x9c \\xeb\\x8c\\x80\\xed\\x99\\x94\\xeb\\xa5\\xbc \\xec\\xa7\\x84\\xed\\x96\\x89\\xed\\x95\\x98\\xeb\\x8a\\x94 \\xec\\x9e\\x90\\xec\\x97\\xb0\\xec\\x96\\xb8\\xec\\x96\\xb4\\xec\\xb2\\x98\\xeb\\xa6\\xac \\xea\\xb8\\xb0\\xec\\x88\\xa0\\xec\\x9d\\x84 \\xec\\x8b\\xac\\xea\\xb0\\x81\\xed\\x95\\x98\\xea\\xb2\\x8c \\xec\\xa0\\x81\\xec\\x9a\\xa9\\xed\\x95\\x98\\xeb\\x8a\\x94 \\xec\\x96\\xb8\\xec\\x96\\xb4\\xec\\x9d\\xb4\\xed\\x95\\xb4 \\xeb\\xb0\\xa9\\xec\\x8b\\x9d, \\xec\\x9e\\x85\\xeb\\xa0\\xa5\\xeb\\xb0\\x9b\\xec\\x9d\\x80 \\xeb\\xa7\\x90\\xec\\x97\\x90\\xec\\x84\\x9c \\xed\\x8a\\xb9\\xec\\xa0\\x95 \\xeb\\x8b\\xa8\\xec\\x96\\xb4\\xeb\\x82\\x98 \\xec\\x96\\xb4\\xea\\xb5\\xac\\xeb\\xa5\\xbc \\xea\\xb2\\x80\\xec\\xb6\\x9c\\xed\\x95\\x98\\xec\\x97\\xac \\xea\\xb7\\xb8\\xec\\x97\\x90 \\xeb\\xa7\\x9e\\xeb\\x8a\\x94 \\xeb\\xaf\\xb8\\xeb\\xa6\\xac \\xec\\xa4\\x80\\xeb\\xb9\\x84\\xeb\\x90\\x9c \\xec\\x9d\\x91\\xeb\\x8b\\xb5\\xec\\x9d\\x84 \\xec\\xb6\\x9c\\xeb\\xa0\\xa5\\xed\\x95\\x98\\xeb\\x8a\\x94 \\xea\\xb2\\x80\\xec\\x83\\x89 \\xeb\\xb0\\xa9\\xec\\x8b\\x9d,\\r\\n\\r\\n\\xea\\xb7\\xb8\\xeb\\xa6\\xac\\xea\\xb3\\xa0 \\xea\\xb0\\x81\\xeb\\xb3\\xb8\\xec\\x9d\\x84 \\xeb\\xaf\\xb8\\xeb\\xa6\\xac \\xeb\\xa7\\x8c\\xeb\\x93\\xa4\\xea\\xb3\\xa0 \\xea\\xb0\\x81\\xeb\\xb3\\xb8\\xec\\x97\\x90 \\xeb\\x94\\xb0\\xeb\\x9d\\xbc\\xec\\x84\\x9c \\xec\\x82\\xac\\xec\\x9a\\xa9\\xec\\x9e\\x90\\xec\\x9d\\x98 \\xec\\x9e\\x85\\xeb\\xa0\\xa5\\xec\\x97\\x90 \\xeb\\x8c\\x80\\xed\\x95\\x9c \\xeb\\x8f\\x99\\xec\\x9e\\x91\\xea\\xb3\\xbc \\xea\\xb0\\x81\\xeb\\xb3\\xb8\\xec\\x97\\x90 \\xec\\x9e\\x88\\xeb\\x8a\\x94 \\xec\\x9d\\x91\\xeb\\x8b\\xb5\\xec\\x9d\\x84 \\xec\\xb6\\x9c\\xeb\\xa0\\xa5\\xed\\x95\\x98\\xeb\\x8a\\x94 \\xea\\xb0\\x81\\xeb\\xb3\\xb8 \\xeb\\xb0\\xa9\\xec\\x8b\\x9d\\xec\\x9d\\xb4 \\xec\\x9e\\x88\\xeb\\x8b\\xa4.\\r\\n\\r\\n\\xeb\\x84\\xa4\\xec\\x9d\\xb4\\xeb\\xb2\\x84\\xed\\x81\\xb4\\xeb\\x9d\\xbc\\xec\\x9a\\xb0\\xeb\\x93\\x9c\\xed\\x94\\x8c\\xeb\\x9e\\xab\\xed\\x8f\\xbc, \\xec\\xb9\\xb4\\xec\\xb9\\xb4\\xec\\x98\\xa4\\xed\\x86\\xa1, LINE, \\xec\\x8a\\xac\\xeb\\x9e\\x99, \\xed\\x8e\\x98\\xec\\x9d\\xb4\\xec\\x8a\\xa4\\xeb\\xb6\\x81 \\xeb\\xa9\\x94\\xec\\x8b\\xa0\\xec\\xa0\\x80, \\xec\\x8a\\xa4\\xeb\\x83\\x87\\xec\\xb9\\x98\\xeb\\xb4\\x87 \\xeb\\x93\\xb1\\xec\\x97\\x90\\xec\\x84\\x9c \\xec\\xb1\\x97\\xeb\\xb4\\x87\\xec\\x9d\\x84 \\xea\\xb5\\xac\\xeb\\x8f\\x99\\xed\\x95\\xa0 \\xec\\x88\\x98 \\xec\\x9e\\x88\\xeb\\x8a\\x94 API\\xeb\\xa5\\xbc \\xec\\xa0\\x9c\\xea\\xb3\\xb5\\xed\\x95\\x9c\\xeb\\x8b\\xa4.\\r\\n\\r\\n\\xea\\xb0\\x9c\\xeb\\xb0\\x9c\\r\\n\\xec\\xa0\\x84\\xed\\x86\\xb5\\xec\\xa0\\x81\\xec\\x9d\\xb8 \\xec\\x97\\xad\\xec\\x82\\xac \\xec\\xb4\\x88\\xea\\xb8\\xb0\\xec\\x9d\\x98 \\xec\\xb1\\x84\\xed\\x84\\xb0\\xeb\\xb4\\x87\\xec\\x9d\\x80 ELIZA(1966\\xeb\\x85\\x84)\\xec\\x99\\x80 PARRY(1972\\xeb\\x85\\x84)\\xec\\x9d\\xb4\\xeb\\x8b\\xa4.[1][2][3][4] \\xeb\\x8d\\x94 \\xec\\xb5\\x9c\\xea\\xb7\\xbc\\xec\\x9d\\x98 \\xec\\xa0\\x80\\xeb\\xaa\\x85\\xed\\x95\\x9c \\xed\\x94\\x84\\xeb\\xa1\\x9c\\xea\\xb7\\xb8\\xeb\\x9e\\xa8\\xeb\\x93\\xa4\\xec\\x97\\x90\\xeb\\x8a\\x94 A.L.I.C.E., Jabberwacky, D.U.D.E\\xea\\xb0\\x80 \\xec\\x9e\\x88\\xeb\\x8b\\xa4. 2017\\xeb\\x85\\x84, \\xec\\x9d\\xb4\\xec\\x8a\\xa4\\xeb\\x9d\\xbc\\xec\\x97\\x98 \\xed\\x9a\\x8c\\xec\\x82\\xac SnatchBot\\xec\\x9d\\x80 \\xea\\xb0\\x90\\xec\\xa0\\x95\\xec\\x9d\\x84 \\xeb\\xb6\\x84\\xec\\x84\\x9d\\xed\\x95\\x98\\xeb\\x8a\\x94 \\xeb\\xb4\\x87\\xec\\x9d\\x84 \\xea\\xb5\\xac\\xec\\xb6\\x95\\xed\\x95\\x98\\xeb\\x8a\\x94 \\xec\\x97\\xad\\xeb\\x9f\\x89\\xec\\x9d\\x84 \\xea\\xb0\\x80\\xec\\xa7\\x84 \\xec\\xb1\\x97\\xeb\\xb4\\x87 \\xec\\x83\\x9d\\xec\\x84\\xb1 \\xec\\x9b\\xb9\\xec\\x82\\xac\\xec\\x9d\\xb4\\xed\\x8a\\xb8\\xeb\\xa5\\xbc \\xeb\\x9f\\xb0\\xec\\xb9\\xad\\xed\\x96\\x88\\xeb\\x8b\\xa4.[5]\\r\\n\\r\\n\\xeb\\xb6\\x80\\xec\\x9e\\x91\\xec\\x9a\\xa9\\r\\n\\xec\\x95\\x85\\xec\\x84\\xb1 \\xec\\xb1\\x97\\xeb\\xb4\\x87\\xec\\x9d\\x80 \\xec\\xa3\\xbc\\xeb\\xa1\\x9c \\xec\\xb1\\x84\\xed\\x8c\\x85\\xeb\\xb0\\xa9\\xec\\x97\\x90\\xec\\x84\\x9c \\xec\\x9d\\xb5\\xeb\\xaa\\x85\\xec\\x84\\xb1\\xec\\x9d\\x84 \\xeb\\x82\\xb4\\xec\\x84\\xb8\\xec\\x9b\\x8c \\xec\\x8a\\xa4\\xed\\x8c\\xb8 \\xeb\\xb0\\x8f \\xea\\xb4\\x91\\xea\\xb3\\xa0\\xeb\\xa1\\x9c \\xeb\\x8f\\x84\\xeb\\xb0\\xb0\\xed\\x95\\x98\\xeb\\x8a\\x94\\xeb\\x8d\\xb0 \\xec\\x93\\xb0\\xec\\x9d\\xb4\\xea\\xb1\\xb0\\xeb\\x82\\x98, \\xeb\\x8b\\xa4\\xeb\\xa5\\xb8 \\xec\\x82\\xac\\xeb\\x9e\\x8c\\xec\\x9d\\x98 \\xec\\x9d\\x80\\xed\\x96\\x89 \\xea\\xb3\\x84\\xec\\xa2\\x8c\\xec\\x99\\x80 \\xea\\xb0\\x99\\xec\\x9d\\x80 \\xea\\xb0\\x9c\\xec\\x9d\\xb8\\xec\\xa0\\x95\\xeb\\xb3\\xb4\\xeb\\xa5\\xbc \\xec\\xba\\x90\\xeb\\x82\\xb4\\xea\\xb8\\xb0 \\xec\\x9c\\x84\\xed\\x95\\xb4 \\xec\\x93\\xb0\\xec\\x9d\\xb8\\xeb\\x8b\\xa4. \\xec\\xa3\\xbc\\xeb\\xa1\\x9c \\xec\\x95\\xbc\\xed\\x9b\\x84 \\xeb\\xa9\\x94\\xec\\x8b\\xa0\\xec\\xa0\\x80, \\xec\\x9c\\x88\\xeb\\x8f\\x84\\xec\\x9a\\xb0 \\xeb\\x9d\\xbc\\xec\\x9d\\xb4\\xeb\\xb8\\x8c \\xeb\\xa9\\x94\\xec\\x8b\\xa0\\xec\\xa0\\x80, AOL \\xeb\\xa9\\x94\\xec\\x8b\\xa0\\xec\\xa0\\x80 \\xeb\\x93\\xb1 \\xec\\x9d\\xb5\\xeb\\xaa\\x85\\xec\\x9d\\x98 \\xec\\x9d\\xb8\\xec\\x8a\\xa4\\xed\\x84\\xb4\\xed\\x8a\\xb8 \\xeb\\xa9\\x94\\xec\\x8b\\xa0\\xec\\xa0\\x80 \\xed\\x94\\x84\\xeb\\xa1\\x9c\\xed\\x86\\xa0\\xec\\xbd\\x9c\\xec\\x97\\x90\\xec\\x84\\x9c \\xec\\xa3\\xbc\\xeb\\xa1\\x9c \\xeb\\xb3\\xb4\\xec\\x9d\\xb8\\xeb\\x8b\\xa4.[6]\\r\\n\\r\\n\\xec\\x83\\x81\\xed\\x98\\xb8 \\xec\\x9e\\x91\\xec\\x9a\\xa9\\xec\\x9d\\x84 \\xed\\x86\\xb5\\xed\\x95\\xb4 \\xed\\x95\\x99\\xec\\x8a\\xb5\\xed\\x95\\x98\\xeb\\x8a\\x94 AI \\xec\\xb1\\x97\\xeb\\xb4\\x87\\xec\\x9d\\xb8 \\xed\\x85\\x8c\\xec\\x9d\\xb4\\xeb\\x8a\\x94 \\xed\\x8a\\xb8\\xec\\x9c\\x84\\xed\\x84\\xb0\\xec\\x97\\x90\\xec\\x84\\x9c \\xec\\x9d\\xb8\\xed\\x84\\xb0\\xeb\\x84\\xb7 \\xed\\x8a\\xb8\\xeb\\xa1\\xa4\\xec\\x9d\\x98 \\xed\\x91\\x9c\\xec\\xa0\\x81\\xec\\x9d\\xb4\\xeb\\x90\\x98\\xec\\x96\\xb4 \\xed\\x81\\xb0 \\xeb\\x85\\xbc\\xeb\\x9e\\x80\\xec\\x9d\\x84 \\xec\\x9d\\xbc\\xec\\x9c\\xbc\\xec\\xbc\\xb0\\xeb\\x8b\\xa4. \\xeb\\xb4\\x87\\xec\\x9d\\xb4 \\xec\\x95\\x85\\xec\\x9a\\xa9\\xeb\\x90\\x98\\xec\\x97\\x88\\xea\\xb3\\xa0 16 \\xec\\x8b\\x9c\\xea\\xb0\\x84 \\xeb\\x8f\\x99\\xec\\x95\\x88 \\xeb\\x8b\\xa4\\xeb\\xa5\\xb8 \\xec\\x82\\xac\\xec\\x9a\\xa9\\xec\\x9e\\x90\\xeb\\x93\\xa4\\xec\\x97\\x90\\xea\\xb2\\x8c \\xea\\xb3\\xb5\\xea\\xb2\\xa9\\xec\\xa0\\x81\\xec\\x9d\\xb8 \\xed\\x8a\\xb8\\xec\\x9c\\x97\\xec\\x9d\\x84 \\xeb\\xb3\\xb4\\xeb\\x83\\x88\\xeb\\x8b\\xa4. \\xec\\x9d\\xb4\\xeb\\x8a\\x94 \\xeb\\xb4\\x87\\xec\\x9d\\xb4 \\xea\\xb2\\xbd\\xed\\x97\\x98\\xec\\x9d\\x84 \\xed\\x86\\xb5\\xed\\x95\\xb4 \\xed\\x9a\\xa8\\xea\\xb3\\xbc\\xec\\xa0\\x81\\xec\\x9c\\xbc\\xeb\\xa1\\x9c \\xed\\x95\\x99\\xec\\x8a\\xb5\\xed\\x96\\x88\\xec\\xa7\\x80\\xeb\\xa7\\x8c \\xec\\x98\\xa4\\xec\\x9a\\xa9\\xec\\x9d\\x84 \\xeb\\xb0\\xa9\\xec\\xa7\\x80\\xed\\x95\\x98\\xea\\xb8\\xb0\\xec\\x9c\\x84\\xed\\x95\\x9c \\xec\\xa0\\x81\\xec\\xa0\\x88\\xed\\x95\\x9c \\xeb\\xb3\\xb4\\xed\\x98\\xb8 \\xec\\x88\\x98\\xeb\\x8b\\xa8\\xec\\x9d\\xb4 \\xeb\\xa7\\x88\\xeb\\xa0\\xa8\\xeb\\x90\\x98\\xec\\xa7\\x80 \\xec\\x95\\x8a\\xec\\x95\\x98\\xec\\x9d\\x8c\\xec\\x9d\\x84 \\xec\\x9d\\x98\\xeb\\xaf\\xb8\\xed\\x95\\x9c\\xeb\\x8b\\xa4.[7]\\r\\n\\r\\n\\xed\\x85\\x8d\\xec\\x8a\\xa4\\xed\\x8a\\xb8 \\xec\\xa0\\x84\\xec\\x86\\xa1 \\xec\\x95\\x8c\\xea\\xb3\\xa0\\xeb\\xa6\\xac\\xec\\xa6\\x98\\xec\\x9d\\xb4 \\xec\\xb1\\x97\\xeb\\xb4\\x87\\xec\\x9d\\xb4 \\xec\\x95\\x84\\xeb\\x8b\\x8c \\xec\\x82\\xac\\xeb\\x9e\\x8c\\xec\\xb2\\x98\\xeb\\x9f\\xbc \\xec\\x8a\\xa4\\xec\\x8a\\xa4\\xeb\\xa1\\x9c\\xeb\\xa5\\xbc \\xec\\xa0\\x84\\xeb\\x8b\\xac\\xed\\x95\\xa0 \\xec\\x88\\x98 \\xec\\x9e\\x88\\xeb\\x8b\\xa4\\xeb\\xa9\\xb4 \\xea\\xb7\\xb8 \\xeb\\xa9\\x94\\xec\\x8b\\x9c\\xec\\xa7\\x80\\xeb\\x8a\\x94 \\xeb\\x8d\\x94 \\xec\\x8b\\xa0\\xeb\\xa2\\xb0\\xed\\x95\\xa0 \\xec\\x88\\x98 \\xec\\x9e\\x88\\xec\\x9d\\x84 \\xea\\xb2\\x83\\xec\\x9d\\xb4\\xeb\\x8b\\xa4. \\xeb\\x94\\xb0\\xeb\\x9d\\xbc\\xec\\x84\\x9c \\xeb\\xaf\\xbf\\xec\\x9d\\x8c\\xec\\xa7\\x81\\xed\\x95\\x9c \\xec\\x82\\xac\\xeb\\x9e\\x8c\\xec\\xb2\\x98\\xeb\\x9f\\xbc \\xeb\\xb3\\xb4\\xec\\x9d\\xb4\\xeb\\x8a\\x94 \\xec\\xb1\\x97\\xeb\\xb4\\x87\\xec\\x9d\\x80 \\xea\\xb7\\xb8\\xeb\\x9f\\xb4\\xeb\\x93\\xaf\\xed\\x95\\xb4 \\xeb\\xb3\\xb4\\xec\\x9d\\xb4\\xeb\\x8a\\x94 \\xea\\xb0\\x80\\xec\\xa7\\x9c \\xeb\\x89\\xb4\\xec\\x8a\\xa4\\xeb\\xa5\\xbc \\xed\\x9d\\xa9\\xeb\\xbf\\x8c\\xeb\\xa6\\xb4 \\xec\\x88\\x98 \\xec\\x9e\\x88\\xeb\\x8b\\xa4. \\xec\\x98\\x88\\xeb\\xa5\\xbc \\xeb\\x93\\xa4\\xec\\x96\\xb4 \\xeb\\x8c\\x80\\xed\\x86\\xb5\\xeb\\xa0\\xb9 \\xec\\x84\\xa0\\xea\\xb1\\xb0\\xec\\x97\\x90\\xec\\x84\\x9c \\xed\\x97\\x88\\xec\\x9c\\x84 \\xec\\xa3\\xbc\\xec\\x9e\\xa5\\xec\\x9d\\x84 \\xed\\x95\\x98\\xeb\\xa9\\xb0 \\xec\\x96\\xb8\\xeb\\xa1\\xa0\\xec\\x9d\\x84 \\xec\\xa1\\xb0\\xec\\x9e\\xa5\\xed\\x95\\xa0 \\xec\\x88\\x98\\xeb\\x8f\\x84 \\xec\\x8b\\xac\\xec\\xa7\\x80\\xec\\x96\\xb4\\xeb\\x8a\\x94 \\xec\\x82\\xac\\xed\\x9a\\x8c\\xec\\xa0\\x81 \\xec\\xa6\\x9d\\xea\\xb1\\xb0\\xeb\\xa5\\xbc \\xec\\xa1\\xb0\\xec\\x9e\\x91\\xed\\x95\\xa0 \\xec\\x88\\x98\\xeb\\x8f\\x84 \\xec\\x9e\\x88\\xeb\\x8b\\xa4.[8]\\r\\n\\r\\n\\xed\\x95\\x9c\\xea\\xb3\\x84\\r\\n\\xec\\xb1\\x97\\xeb\\xb4\\x87\\xec\\x9d\\x98 \\xec\\x83\\x9d\\xec\\x84\\xb1 \\xeb\\xb0\\x8f \\xea\\xb5\\xac\\xed\\x98\\x84\\xec\\x9d\\x80 \\xec\\x97\\xac\\xec\\xa0\\x84\\xed\\x9e\\x88 \\xec\\x9d\\xb8\\xea\\xb3\\xb5 \\xec\\xa7\\x80\\xeb\\x8a\\xa5 \\xeb\\xb0\\x8f \\xea\\xb8\\xb0\\xea\\xb3\\x84 \\xed\\x95\\x99\\xec\\x8a\\xb5\\xea\\xb3\\xbc \\xeb\\xb0\\x80\\xec\\xa0\\x91\\xed\\x95\\x9c \\xea\\xb4\\x80\\xeb\\xa0\\xa8\\xec\\x9d\\xb4 \\xec\\x9e\\x88\\xeb\\x8a\\x94 \\xec\\xa0\\x84\\xeb\\xa7\\x9d\\xec\\x84\\xb1\\xec\\x9d\\xb4 \\xeb\\xb0\\x9d\\xec\\x9d\\x80 \\xea\\xb0\\x9c\\xeb\\xb0\\x9c \\xec\\x98\\x81\\xec\\x97\\xad\\xec\\x9d\\xb4\\xeb\\x8b\\xa4. \\xec\\xb1\\x97\\xeb\\xb4\\x87\\xec\\x9d\\x80 \\xeb\\xb6\\x84\\xeb\\xaa\\x85\\xed\\x95\\x9c \\xec\\x9e\\xa5\\xec\\xa0\\x90\\xec\\x9d\\x84 \\xea\\xb0\\x80\\xec\\xa7\\x80\\xea\\xb3\\xa0 \\xec\\x9e\\x88\\xec\\xa7\\x80\\xeb\\xa7\\x8c, \\xeb\\xaa\\x87 \\xea\\xb0\\x80\\xec\\xa7\\x80 \\xec\\xa4\\x91\\xec\\x9a\\x94\\xed\\x95\\x9c \\xec\\xa0\\x9c\\xed\\x95\\x9c\\xec\\x9d\\xb4 \\xec\\x9e\\x88\\xeb\\x8b\\xa4. \\xea\\xb7\\xb8\\xeb\\x9f\\xac\\xeb\\x82\\x98 \\xec\\x9d\\xb4\\xea\\xb2\\x83\\xec\\x9d\\x80 \\xed\\x99\\x95\\xec\\x8b\\xa4\\xed\\x95\\x98\\xea\\xb2\\x8c \\xec\\xa0\\x95\\xed\\x95\\xb4\\xec\\xa7\\x84 \\xea\\xb2\\x83\\xec\\x9d\\xb4 \\xec\\x95\\x84\\xeb\\x8b\\x88\\xeb\\xaf\\x80\\xeb\\xa1\\x9c \\xea\\xb3\\x84\\xec\\x86\\x8d \\xeb\\xb3\\x80\\xed\\x95\\x98\\xea\\xb3\\xa0 \\xec\\x9e\\x88\\xeb\\x8b\\xa4. \\xeb\\x98\\x90\\xed\\x95\\x9c, \\xec\\xb1\\x97\\xeb\\xb4\\x87\\xec\\x9d\\x84 \\xeb\\xa7\\x8c\\xeb\\x93\\xa4\\xeb\\x95\\x8c \\xed\\x9d\\x94\\xed\\x9e\\x88 \\xed\\x95\\x98\\xeb\\x8a\\x94 \\xec\\x8b\\xa4\\xed\\x8c\\xa8\\xec\\x9a\\x94\\xec\\x9d\\xb8\\xec\\x9d\\xb4 \\xec\\x9e\\x88\\xec\\x9c\\xbc\\xeb\\x8b\\x88 \\xec\\xa3\\xbc\\xec\\x9d\\x98\\xed\\x95\\xb4\\xec\\x95\\xbc \\xed\\x95\\x9c\\xeb\\x8b\\xa4.[9]\\r\\n\\r\\n\\xec\\xb6\\x9c\\xeb\\xa0\\xa5 \\xec\\x83\\x9d\\xec\\x84\\xb1\\xec\\x97\\x90 \\xec\\x82\\xac\\xec\\x9a\\xa9\\xeb\\x90\\x98\\xeb\\x8a\\x94 \\xeb\\x8d\\xb0\\xec\\x9d\\xb4\\xed\\x84\\xb0\\xeb\\xb2\\xa0\\xec\\x9d\\xb4\\xec\\x8a\\xa4\\xea\\xb0\\x80 \\xea\\xb3\\xa0\\xec\\xa0\\x95\\xeb\\x90\\x98\\xea\\xb3\\xa0 \\xec\\xa0\\x9c\\xed\\x95\\x9c\\xeb\\x90\\x98\\xec\\x96\\xb4 \\xec\\x9e\\x88\\xea\\xb8\\xb0 \\xeb\\x95\\x8c\\xeb\\xac\\xb8\\xec\\x97\\x90 \\xed\\x95\\x99\\xec\\x8a\\xb5\\xeb\\x90\\x98\\xec\\xa7\\x80 \\xec\\x95\\x8a\\xea\\xb1\\xb0\\xeb\\x82\\x98 \\xec\\xa0\\x80\\xec\\x9e\\xa5\\xeb\\x90\\x98\\xec\\xa7\\x80 \\xec\\x95\\x8a\\xec\\x9d\\x80 \\xec\\xa7\\x88\\xeb\\xac\\xb8\\xec\\x9d\\x80 \\xec\\xb1\\x97\\xeb\\xb4\\x87\\xec\\x9d\\xb4 \\xec\\xb2\\x98\\xeb\\xa6\\xac\\xeb\\xa5\\xbc \\xec\\x8b\\xa4\\xed\\x8c\\xa8\\xed\\x95\\xa0 \\xec\\x88\\x98 \\xec\\x9e\\x88\\xeb\\x8b\\xa4.[10]\\r\\n\\xec\\xb1\\x97\\xeb\\xb4\\x87\\xec\\x9d\\x80 \\xec\\x96\\xb8\\xec\\x96\\xb4 \\xed\\x94\\x84\\xeb\\xa1\\x9c\\xec\\x84\\xb8\\xec\\x8a\\xa4\\xec\\x97\\x90 \\xed\\x81\\xac\\xea\\xb2\\x8c \\xec\\x98\\x81\\xed\\x96\\xa5\\xec\\x9d\\x84 \\xeb\\xb0\\x9b\\xec\\x9c\\xbc\\xeb\\xa9\\xb0 \\xec\\x95\\xa1\\xec\\x84\\xbc\\xed\\x8a\\xb8 \\xeb\\xb0\\x8f \\xec\\x8b\\xa4\\xec\\x88\\x98\\xec\\x99\\x80 \\xea\\xb0\\x99\\xec\\x9d\\x80 \\xeb\\xb6\\x88\\xea\\xb7\\x9c\\xec\\xb9\\x99\\xec\\x84\\xb1\\xec\\x9c\\xbc\\xeb\\xa1\\x9c \\xec\\x9d\\xb8\\xed\\x95\\xb4 \\xec\\xa0\\x9c\\xed\\x95\\x9c\\xeb\\x90\\xa0 \\xec\\x88\\x98 \\xec\\x9e\\x88\\xeb\\x8b\\xa4.[11]\\r\\n\\xec\\xb1\\x97\\xeb\\xb4\\x87\\xec\\x9d\\x80 \\xeb\\x8f\\x99\\xec\\x8b\\x9c\\xec\\x97\\x90 \\xec\\x97\\xac\\xeb\\x9f\\xac \\xec\\xa7\\x88\\xeb\\xac\\xb8\\xec\\x9d\\x84 \\xec\\xb2\\x98\\xeb\\xa6\\xac\\xed\\x95\\xa0 \\xec\\x88\\x98 \\xec\\x97\\x86\\xec\\x9c\\xbc\\xeb\\xaf\\x80\\xeb\\xa1\\x9c \\xec\\x82\\xac\\xeb\\x9e\\x8c\\xea\\xb3\\xbc \\xeb\\x8c\\x80\\xed\\x99\\x94\\xed\\x95\\xa0 \\xeb\\x95\\x8c \\xeb\\xb3\\xb4\\xeb\\x8b\\xa4 \\xed\\x9a\\xa8\\xec\\x9c\\xa8\\xec\\x84\\xb1\\xec\\x9d\\xb4 \\xeb\\x96\\xa8\\xec\\x96\\xb4\\xec\\xa7\\x88 \\xec\\x88\\x98 \\xec\\x9e\\x88\\xeb\\x8b\\xa4.\\r\\n\\xec\\xb1\\x97\\xeb\\xb4\\x87\\xec\\x9d\\x80 \\xed\\x95\\x99\\xec\\x8a\\xb5\\xea\\xb2\\xbd\\xed\\x97\\x98\\xec\\x9d\\x84 \\xec\\x9c\\x84\\xed\\x95\\xb4 \\xeb\\xa7\\x8e\\xec\\x9d\\x80 \\xec\\x96\\x91\\xec\\x9d\\x98 \\xeb\\x8c\\x80\\xed\\x99\\x94 \\xeb\\x8d\\xb0\\xec\\x9d\\xb4\\xed\\x84\\xb0\\xea\\xb0\\x80 \\xed\\x95\\x84\\xec\\x9a\\x94\\xed\\x95\\x98\\xeb\\x8b\\xa4.\\r\\n\\xec\\xb1\\x97\\xeb\\xb4\\x87\\xec\\x9d\\x80 \\xec\\x82\\xac\\xec\\x9a\\xa9\\xec\\x9e\\x90\\xec\\x99\\x80 \\xec\\x9d\\xb4\\xec\\xa0\\x84\\xec\\x9d\\x98 \\xeb\\x8c\\x80\\xed\\x99\\x94\\xeb\\xa5\\xbc \\xec\\xa3\\xbc\\xea\\xb3\\xa0 \\xeb\\xb0\\x9b\\xec\\x95\\x84\\xec\\x95\\xbc \\xed\\x95\\x98\\xeb\\x8a\\x94 \\xeb\\xb9\\x84\\xec\\x84\\xa0\\xed\\x98\\x95 \\xeb\\x8c\\x80\\xed\\x99\\x94\\xeb\\xa5\\xbc \\xec\\xb2\\x98\\xeb\\xa6\\xac\\xed\\x95\\x98\\xeb\\x8a\\x94\\xeb\\x8d\\xb0 \\xec\\x96\\xb4\\xeb\\xa0\\xa4\\xec\\x9b\\x80\\xec\\x9d\\xb4 \\xec\\x9e\\x88\\xeb\\x8b\\xa4.[12]\\r\\n\\xec\\x9d\\xbc\\xeb\\xb0\\x98\\xec\\xa0\\x81\\xec\\x9c\\xbc\\xeb\\xa1\\x9c \\xea\\xb8\\xb0\\xec\\xa1\\xb4 \\xec\\x84\\x9c\\xeb\\xb9\\x84\\xec\\x8a\\xa4\\xec\\x9d\\x98 \\xea\\xb8\\xb0\\xec\\x88\\xa0 \\xec\\xa3\\xbc\\xeb\\x8f\\x84\\xec\\xa0\\x81 \\xeb\\xb3\\x80\\xed\\x99\\x94\\xec\\x97\\x90\\xec\\x84\\x9c \\xeb\\xb0\\x9c\\xec\\x83\\x9d\\xed\\x95\\x98\\xeb\\x8a\\x94 \\xea\\xb2\\x83\\xec\\xb2\\x98\\xeb\\x9f\\xbc \\xec\\x9d\\xbc\\xeb\\xb6\\x80 \\xec\\x86\\x8c\\xeb\\xb9\\x84\\xec\\x9e\\x90\\xeb\\x8a\\x94 \\xec\\xb1\\x97\\xeb\\xb4\\x87\\xec\\x97\\x90 \\xeb\\xb6\\x88\\xed\\x8e\\xb8\\xed\\x95\\xa8\\xec\\x9d\\x84 \\xeb\\x8a\\x90\\xeb\\x81\\xbc\\xea\\xb3\\xa0 \\xec\\x9e\\x90\\xec\\x8b\\xa0\\xec\\x9d\\x98 \\xec\\x9a\\x94\\xec\\xb2\\xad\\xec\\x9d\\xb4 \\xea\\xb8\\xb0\\xea\\xb3\\x84\\xec\\x97\\x90 \\xec\\x9d\\x98\\xed\\x95\\xb4 \\xec\\xb2\\x98\\xeb\\xa6\\xac\\xeb\\x90\\x98\\xea\\xb3\\xa0 \\xec\\x9e\\x88\\xec\\x9d\\x8c\\xec\\x9d\\x84 \\xeb\\xb6\\x84\\xeb\\xaa\\x85\\xed\\x9e\\x88 \\xec\\x95\\x8c \\xec\\x88\\x98 \\xec\\x9e\\x88\\xeb\\x8b\\xa4.[11]'}"
            ]
          },
          "metadata": {},
          "execution_count": 16
        }
      ]
    },
    {
      "cell_type": "code",
      "source": [
        "!pip install koNLpy"
      ],
      "metadata": {
        "colab": {
          "base_uri": "https://localhost:8080/"
        },
        "id": "O73gOFPwB9sM",
        "outputId": "b2e7d044-8734-49fc-9eb5-ad9b3a3bb40a"
      },
      "execution_count": 19,
      "outputs": [
        {
          "output_type": "stream",
          "name": "stdout",
          "text": [
            "Looking in indexes: https://pypi.org/simple, https://us-python.pkg.dev/colab-wheels/public/simple/\n",
            "Collecting koNLpy\n",
            "  Downloading konlpy-0.6.0-py2.py3-none-any.whl (19.4 MB)\n",
            "\u001b[K     |████████████████████████████████| 19.4 MB 1.4 MB/s \n",
            "\u001b[?25hCollecting JPype1>=0.7.0\n",
            "  Downloading JPype1-1.4.0-cp37-cp37m-manylinux_2_5_x86_64.manylinux1_x86_64.whl (453 kB)\n",
            "\u001b[K     |████████████████████████████████| 453 kB 56.9 MB/s \n",
            "\u001b[?25hRequirement already satisfied: numpy>=1.6 in /usr/local/lib/python3.7/dist-packages (from koNLpy) (1.21.6)\n",
            "Requirement already satisfied: lxml>=4.1.0 in /usr/local/lib/python3.7/dist-packages (from koNLpy) (4.9.1)\n",
            "Requirement already satisfied: typing-extensions in /usr/local/lib/python3.7/dist-packages (from JPype1>=0.7.0->koNLpy) (4.1.1)\n",
            "Installing collected packages: JPype1, koNLpy\n",
            "Successfully installed JPype1-1.4.0 koNLpy-0.6.0\n"
          ]
        }
      ]
    },
    {
      "cell_type": "code",
      "source": [
        "from wordcloud import WordCloud\n",
        "from wordcloud import STOPWORDS\n",
        "import matplotlib.pyplot as plt\n",
        "\n",
        "from PIL import Image\n",
        "import numpy as np"
      ],
      "metadata": {
        "id": "vFMUIXVTAvFN"
      },
      "execution_count": 12,
      "outputs": []
    },
    {
      "cell_type": "code",
      "source": [
        "f = open('./챗봇.txt', 'r', encoding='UTF8')\n",
        "text = f.read()\n",
        "text"
      ],
      "metadata": {
        "colab": {
          "base_uri": "https://localhost:8080/",
          "height": 365
        },
        "id": "_NHInBimA6Bb",
        "outputId": "8cb2133f-382d-46d2-82ac-68ce5ea20a29"
      },
      "execution_count": 17,
      "outputs": [
        {
          "output_type": "execute_result",
          "data": {
            "text/plain": [
              "'챗봇\\n\\n문서\\n토론\\n읽기\\n편집\\n역사 보기\\n위키백과, 우리 모두의 백과사전.\\n\\n\\n가상 비서 챗봇\\n챗봇(chatbot) 혹은 채터봇(chatterbot)은 음성이나 문자를 통한 인간과의 대화를 통해서 특정한 작업을 수행하도록 제작된 컴퓨터 프로그램이다. 토크봇(talkbot), 채터박스(chatterbox) 혹은 그냥 봇(bot)라고도 한다.\\n\\n인간이 사용하는 언어를 이해해서 대화를 진행하는 자연언어처리 기술을 심각하게 적용하는 언어이해 방식, 입력받은 말에서 특정 단어나 어구를 검출하여 그에 맞는 미리 준비된 응답을 출력하는 검색 방식,\\n\\n그리고 각본을 미리 만들고 각본에 따라서 사용자의 입력에 대한 동작과 각본에 있는 응답을 출력하는 각본 방식이 있다.\\n\\n네이버클라우드플랫폼, 카카오톡, LINE, 슬랙, 페이스북 메신저, 스냇치봇 등에서 챗봇을 구동할 수 있는 API를 제공한다.\\n\\n개발\\n전통적인 역사 초기의 채터봇은 ELIZA(1966년)와 PARRY(1972년)이다.[1][2][3][4] 더 최근의 저명한 프로그램들에는 A.L.I.C.E., Jabberwacky, D.U.D.E가 있다. 2017년, 이스라엘 회사 SnatchBot은 감정을 분석하는 봇을 구축하는 역량을 가진 챗봇 생성 웹사이트를 런칭했다.[5]\\n\\n부작용\\n악성 챗봇은 주로 채팅방에서 익명성을 내세워 스팸 및 광고로 도배하는데 쓰이거나, 다른 사람의 은행 계좌와 같은 개인정보를 캐내기 위해 쓰인다. 주로 야후 메신저, 윈도우 라이브 메신저, AOL 메신저 등 익명의 인스턴트 메신저 프로토콜에서 주로 보인다.[6]\\n\\n상호 작용을 통해 학습하는 AI 챗봇인 테이는 트위터에서 인터넷 트롤의 표적이되어 큰 논란을 일으켰다. 봇이 악용되었고 16 시간 동안 다른 사용자들에게 공격적인 트윗을 보냈다. 이는 봇이 경험을 통해 효과적으로 학습했지만 오용을 방지하기위한 적절한 보호 수단이 마련되지 않았음을 의미한다.[7]\\n\\n텍스트 전송 알고리즘이 챗봇이 아닌 사람처럼 스스로를 전달할 수 있다면 그 메시지는 더 신뢰할 수 있을 것이다. 따라서 믿음직한 사람처럼 보이는 챗봇은 그럴듯해 보이는 가짜 뉴스를 흩뿌릴 수 있다. 예를 들어 대통령 선거에서 허위 주장을 하며 언론을 조장할 수도 심지어는 사회적 증거를 조작할 수도 있다.[8]\\n\\n한계\\n챗봇의 생성 및 구현은 여전히 인공 지능 및 기계 학습과 밀접한 관련이 있는 전망성이 밝은 개발 영역이다. 챗봇은 분명한 장점을 가지고 있지만, 몇 가지 중요한 제한이 있다. 그러나 이것은 확실하게 정해진 것이 아니므로 계속 변하고 있다. 또한, 챗봇을 만들때 흔히 하는 실패요인이 있으니 주의해야 한다.[9]\\n\\n출력 생성에 사용되는 데이터베이스가 고정되고 제한되어 있기 때문에 학습되지 않거나 저장되지 않은 질문은 챗봇이 처리를 실패할 수 있다.[10]\\n챗봇은 언어 프로세스에 크게 영향을 받으며 액센트 및 실수와 같은 불규칙성으로 인해 제한될 수 있다.[11]\\n챗봇은 동시에 여러 질문을 처리할 수 없으므로 사람과 대화할 때 보다 효율성이 떨어질 수 있다.\\n챗봇은 학습경험을 위해 많은 양의 대화 데이터가 필요하다.\\n챗봇은 사용자와 이전의 대화를 주고 받아야 하는 비선형 대화를 처리하는데 어려움이 있다.[12]\\n일반적으로 기존 서비스의 기술 주도적 변화에서 발생하는 것처럼 일부 소비자는 챗봇에 불편함을 느끼고 자신의 요청이 기계에 의해 처리되고 있음을 분명히 알 수 있다.[11]'"
            ],
            "application/vnd.google.colaboratory.intrinsic+json": {
              "type": "string"
            }
          },
          "metadata": {},
          "execution_count": 17
        }
      ]
    },
    {
      "cell_type": "code",
      "source": [
        "mask = np.array(Image.open('./cloudMask.png'))\n",
        "mask"
      ],
      "metadata": {
        "colab": {
          "base_uri": "https://localhost:8080/"
        },
        "id": "L53R4IRKBqPS",
        "outputId": "7de9a010-7c83-4a99-fc44-4d889cd0b74c"
      },
      "execution_count": 18,
      "outputs": [
        {
          "output_type": "execute_result",
          "data": {
            "text/plain": [
              "array([[[255, 255, 255,   0],\n",
              "        [255, 255, 255,   0],\n",
              "        [255, 255, 255,   0],\n",
              "        ...,\n",
              "        [255, 255, 255,   0],\n",
              "        [255, 255, 255,   0],\n",
              "        [255, 255, 255,   0]],\n",
              "\n",
              "       [[255, 255, 255,   0],\n",
              "        [255, 255, 255,   0],\n",
              "        [255, 255, 255,   0],\n",
              "        ...,\n",
              "        [255, 255, 255,   0],\n",
              "        [255, 255, 255,   0],\n",
              "        [255, 255, 255,   0]],\n",
              "\n",
              "       [[255, 255, 255,   0],\n",
              "        [255, 255, 255,   0],\n",
              "        [255, 255, 255,   0],\n",
              "        ...,\n",
              "        [255, 255, 255,   0],\n",
              "        [255, 255, 255,   0],\n",
              "        [255, 255, 255,   0]],\n",
              "\n",
              "       ...,\n",
              "\n",
              "       [[255, 255, 255,   0],\n",
              "        [255, 255, 255,   0],\n",
              "        [255, 255, 255,   0],\n",
              "        ...,\n",
              "        [255, 255, 255,   0],\n",
              "        [255, 255, 255,   0],\n",
              "        [255, 255, 255,   0]],\n",
              "\n",
              "       [[255, 255, 255,   0],\n",
              "        [255, 255, 255,   0],\n",
              "        [255, 255, 255,   0],\n",
              "        ...,\n",
              "        [255, 255, 255,   0],\n",
              "        [255, 255, 255,   0],\n",
              "        [255, 255, 255,   0]],\n",
              "\n",
              "       [[255, 255, 255,   0],\n",
              "        [255, 255, 255,   0],\n",
              "        [255, 255, 255,   0],\n",
              "        ...,\n",
              "        [255, 255, 255,   0],\n",
              "        [255, 255, 255,   0],\n",
              "        [255, 255, 255,   0]]], dtype=uint8)"
            ]
          },
          "metadata": {},
          "execution_count": 18
        }
      ]
    },
    {
      "cell_type": "code",
      "source": [
        "from konlpy.tag import Okt\n",
        "tagger = Okt()\n",
        "nouns = tagger.nouns(text)\n",
        "nounToStr = ' '.join(nouns)"
      ],
      "metadata": {
        "id": "Uc0Be_8RByE0"
      },
      "execution_count": 23,
      "outputs": []
    },
    {
      "cell_type": "code",
      "source": [
        "from matplotlib.cm import ma\n",
        "path = '/usr/share/fonts/truetype/nanum/NanumGothic.ttf'\n",
        "s_words = STOPWORDS.union({\n",
        "    '이', '등', '의', '를', '것', '그', '이후', '도', '후', '모두', '또한', '따라서', '통한'\n",
        "})\n",
        "wordcloud = WordCloud(\n",
        "    font_path=path, \n",
        "    stopwords=s_words, \n",
        "    mask=mask,\n",
        "    background_color='white'\n",
        "  ).generate(nounToStr)"
      ],
      "metadata": {
        "id": "O78JojAiCfTF"
      },
      "execution_count": 26,
      "outputs": []
    },
    {
      "cell_type": "code",
      "source": [
        "plt.imshow(wordcloud)\n",
        "plt.axis('off')\n",
        "plt.show()"
      ],
      "metadata": {
        "colab": {
          "base_uri": "https://localhost:8080/",
          "height": 248
        },
        "id": "8uWGtK43Cpj9",
        "outputId": "f4d443f4-4738-47ab-aa03-a0ff3a4c2023"
      },
      "execution_count": 27,
      "outputs": [
        {
          "output_type": "display_data",
          "data": {
            "text/plain": [
              "<Figure size 432x288 with 1 Axes>"
            ],
            "image/png": "[encoded data removed]"
          },
          "metadata": {
            "needs_background": "light"
          }
        }
      ]
    }
  ]
}