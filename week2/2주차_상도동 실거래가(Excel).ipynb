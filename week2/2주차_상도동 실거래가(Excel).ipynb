{
 "cells": [
  {
   "cell_type": "markdown",
   "id": "bd0d8b8a",
   "metadata": {},
   "source": [
    "# 1. 공공데이터 사이트에서 데이터 가져오기\n",
    "### (1)읽어온 데이터 확인해보기"
   ]
  },
  {
   "cell_type": "code",
   "execution_count": null,
   "id": "892aacc5",
   "metadata": {},
   "outputs": [],
   "source": [
    "import pandas as pd\n",
    "\n",
    "#header가 없으면 첫행을 칼럼으로 설정함\n",
    "data = pd.read_excel('./상도동실거래가_excel.xlsx')  \n",
    "\n",
    "data"
   ]
  },
  {
   "cell_type": "markdown",
   "id": "ea780900",
   "metadata": {},
   "source": [
    "### (2)처음 5개 행 가져오기"
   ]
  },
  {
   "cell_type": "code",
   "execution_count": null,
   "id": "b1172961",
   "metadata": {},
   "outputs": [],
   "source": [
    "# 열 이름과 데이터들이 바르게 보이는지 확인\n",
    "# 상위 5개의 레코드(행) 보기\n",
    "data.head()"
   ]
  },
  {
   "cell_type": "markdown",
   "id": "0bc2c178",
   "metadata": {},
   "source": [
    "### (3)테이블 정보 확인"
   ]
  },
  {
   "cell_type": "code",
   "execution_count": null,
   "id": "c2765f9f",
   "metadata": {},
   "outputs": [],
   "source": [
    "#테이블 정보 확인하기\n",
    "data.info()"
   ]
  },
  {
   "cell_type": "markdown",
   "id": "fe6eaef1",
   "metadata": {},
   "source": [
    "# 2.데이터 수집 & 정제 (전처리과정)\n",
    "\n",
    "### Excel 에서 전처리과정 다루기\n",
    "#### (0) 편집가능 모드로 변경하기\n",
    "#### (1) 열이름 재설정하고 빨간색 행들 지우기\n",
    "#### (2) 복잡한 열이름 변경하기\n",
    "#### (3) 데이터가 없는 데이터 열 삭제하기(해제사유발생일 열 지우기)\n",
    "#### (4) 특정열 문자열을 숫자로 변경하기(전용면젹, 거래금액)\n",
    "#### (5) 평수 칼럼 추가하기"
   ]
  },
  {
   "cell_type": "markdown",
   "id": "27c3c6d2",
   "metadata": {},
   "source": [
    "##  3.데이터탐색 & 모델링 & 결과분석(차트로 표현해서 결과 확인하기)\n",
    "#### - 시각화(차트)를 위한 라이브러리 읽어오기"
   ]
  },
  {
   "cell_type": "code",
   "execution_count": null,
   "id": "dc5108ce",
   "metadata": {},
   "outputs": [],
   "source": [
    "import seaborn as sns\n",
    "from matplotlib import font_manager, rc\n",
    "\n",
    "path = \"c:/windows/Fonts/malgun.ttf\"\n",
    "font_name = font_manager.FontProperties(fname=path).get_name()\n",
    "rc('font', family=font_name)"
   ]
  },
  {
   "cell_type": "markdown",
   "id": "f102b997",
   "metadata": {},
   "source": [
    "###  (1) 전용면적 & 거래금액 관계 살펴보기"
   ]
  },
  {
   "cell_type": "code",
   "execution_count": null,
   "id": "96f3bd54",
   "metadata": {},
   "outputs": [],
   "source": [
    "sns.relplot(data= data, x='평수', y='거래금액');"
   ]
  },
  {
   "cell_type": "markdown",
   "id": "acfb0a9d",
   "metadata": {},
   "source": [
    "###  (2) 건축년도 & 거래금액 관계 살펴보기"
   ]
  },
  {
   "cell_type": "code",
   "execution_count": null,
   "id": "4e171ae1",
   "metadata": {},
   "outputs": [],
   "source": [
    "sns.relplot(data=data, x='건축년도', y='거래금액');"
   ]
  },
  {
   "cell_type": "markdown",
   "id": "deff6539",
   "metadata": {},
   "source": [
    "###  (3) 전용면적 & 거래금액 & 평수 관계 살펴보기"
   ]
  },
  {
   "cell_type": "code",
   "execution_count": null,
   "id": "1d730e08",
   "metadata": {},
   "outputs": [],
   "source": [
    "sns.relplot(data=data, x='전용면적', y='거래금액', hue='평수');"
   ]
  }
 ],
 "metadata": {
  "kernelspec": {
   "display_name": "Python 3.10.2 64-bit",
   "language": "python",
   "name": "python3"
  },
  "language_info": {
   "codemirror_mode": {
    "name": "ipython",
    "version": 3
   },
   "file_extension": ".py",
   "mimetype": "text/x-python",
   "name": "python",
   "nbconvert_exporter": "python",
   "pygments_lexer": "ipython3",
   "version": "3.10.2"
  },
  "vscode": {
   "interpreter": {
    "hash": "294a2ce54ec9e97ecbc4b8783482526d5c2ad99aca1ef4f27d286a5682734f1b"
   }
  }
 },
 "nbformat": 4,
 "nbformat_minor": 5
}
