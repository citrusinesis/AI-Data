{
 "cells": [
  {
   "cell_type": "code",
   "execution_count": null,
   "id": "a250fadd",
   "metadata": {},
   "outputs": [],
   "source": [
    "import random\n",
    "\n",
    "print(\"### 가위 바위 보 게임 ###\")\n",
    "myHand = int(input(\"가위:1, 바위:2, 보:3 을 입력: \"))\n",
    "comHand = random.randrange(1,4)"
   ]
  },
  {
   "cell_type": "code",
   "execution_count": null,
   "id": "8dbc1e2d",
   "metadata": {},
   "outputs": [],
   "source": [
    "if myHand == 1 :\n",
    "    if comHand == 1:\n",
    "        print(\"비겼다\")\n",
    "    elif comHand == 2:\n",
    "        print(\"졌다ㅠ\")\n",
    "    elif comHand == 3:\n",
    "        print(\"이겼다\")"
   ]
  },
  {
   "cell_type": "code",
   "execution_count": null,
   "id": "d2a2f756",
   "metadata": {},
   "outputs": [],
   "source": [
    "if myHand == 2 :\n",
    "    if comHand == 1:\n",
    "        print(\"이겼다\")\n",
    "    elif comHand == 2:\n",
    "        print(\"비겼다\")\n",
    "    elif comHand == 3:\n",
    "        print(\"졌다ㅠ\")"
   ]
  },
  {
   "cell_type": "code",
   "execution_count": null,
   "id": "bc6a03bf",
   "metadata": {},
   "outputs": [],
   "source": [
    "if myHand == 3 :\n",
    "    if comHand == 1:\n",
    "        print(\"졌다ㅠ\")\n",
    "    elif comHand == 2:\n",
    "        print(\"이겼다.\")\n",
    "    elif comHand == 3:\n",
    "        print(\"비겼다\")"
   ]
  }
 ],
 "metadata": {
  "kernelspec": {
   "display_name": "Python 3.10.2 64-bit",
   "language": "python",
   "name": "python3"
  },
  "language_info": {
   "codemirror_mode": {
    "name": "ipython",
    "version": 3
   },
   "file_extension": ".py",
   "mimetype": "text/x-python",
   "name": "python",
   "nbconvert_exporter": "python",
   "pygments_lexer": "ipython3",
   "version": "3.10.2"
  },
  "vscode": {
   "interpreter": {
    "hash": "294a2ce54ec9e97ecbc4b8783482526d5c2ad99aca1ef4f27d286a5682734f1b"
   }
  }
 },
 "nbformat": 4,
 "nbformat_minor": 5
}
